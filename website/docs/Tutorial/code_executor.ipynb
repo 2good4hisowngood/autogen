{
 "cells": [
  {
   "cell_type": "markdown",
   "metadata": {},
   "source": [
    "<!--\n",
    "tags: [tutorial]\n",
    "description: Code Executor\n",
    "-->"
   ]
  },
  {
   "cell_type": "markdown",
   "metadata": {},
   "source": [
    "# Code Executor\n",
    "\n",
    "**This chapter is a work in progress, will be updated once the containerized code executor is ready]**\n",
    "\n",
    "In the last chapter, we used two agents powered by a large language model (LLM) \n",
    "to create a comedy show. It was a fun exercise, but LLM by itself can only\n",
    "generate text -- it cannot interact with its environment or reliably perform\n",
    "logical operations like arithmetic. \n",
    "\n",
    "In this chapter, we introduce code executor, an AutoGen's agent component that \n",
    "takes input messages with code blocks, performs execution, and output messages\n",
    "with the results.\n",
    "\n",
    "**Note**: Different from many other agent frameworks, AutoGen's code executor\n",
    "can power an entire role of an agent: it can take input messages, execute code,\n",
    "and output messages -- just like LLM."
   ]
  },
  {
   "cell_type": "markdown",
   "metadata": {},
   "source": [
    "Here is an example of a code executor agent:"
   ]
  },
  {
   "cell_type": "code",
   "execution_count": 1,
   "metadata": {},
   "outputs": [
    {
     "name": "stderr",
     "output_type": "stream",
     "text": [
      "0.00s - Debugger warning: It seems that frozen modules are being used, which may\n",
      "0.00s - make the debugger miss breakpoints. Please pass -Xfrozen_modules=off\n",
      "0.00s - to python to disable frozen modules.\n",
      "0.00s - Note: Debugging will proceed. Set PYDEVD_DISABLE_FILE_VALIDATION=1 to disable this validation.\n"
     ]
    }
   ],
   "source": [
    "from autogen import ConversableAgent\n",
    "\n",
    "code_executor = ConversableAgent(\n",
    "    \"code_executor\",\n",
    "    llm_config=False,  # Turn off LLM for this agent.\n",
    "    code_execution_config={\"executor\": \"ipython-embedded\"},\n",
    ")"
   ]
  },
  {
   "cell_type": "markdown",
   "metadata": {},
   "source": [
    "The code executor agent is initialized with the `ipython-embedded` code executor.\n",
    " "
   ]
  }
 ],
 "metadata": {
  "kernelspec": {
   "display_name": "autogen",
   "language": "python",
   "name": "python3"
  },
  "language_info": {
   "codemirror_mode": {
    "name": "ipython",
    "version": 3
   },
   "file_extension": ".py",
   "mimetype": "text/x-python",
   "name": "python",
   "nbconvert_exporter": "python",
   "pygments_lexer": "ipython3",
   "version": "3.11.5"
  }
 },
 "nbformat": 4,
 "nbformat_minor": 2
}
