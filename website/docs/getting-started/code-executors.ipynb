{
 "cells": [
  {
   "cell_type": "markdown",
   "metadata": {},
   "source": [
    "<!--\n",
    "tags: [tutorial]\n",
    "description: Code Executors\n",
    "-->"
   ]
  },
  {
   "cell_type": "markdown",
   "metadata": {},
   "source": [
    "# Code Executors\n",
    "\n",
    "**This chapter is a work in progress, will be updated once the containerized code executor is ready]**\n",
    "\n",
    "In the [last chapter](./human-in-the-loop), \n",
    "we used two agents powered by a large language model (LLM) \n",
    "to play a game. It was a fun exercise, but LLM by itself can only\n",
    "generate text -- it cannot interact with its environment or reliably perform\n",
    "logical operations like arithmetic. \n",
    "\n",
    "In this chapter, we introduce code executor, an AutoGen's agent component that \n",
    "takes input messages with code blocks, performs execution, and output messages\n",
    "with the results.\n",
    "\n",
    "**Note**: Different from many other agent frameworks, AutoGen's code executor\n",
    "can power an entire role of an agent: it can take input messages, execute code,\n",
    "and output messages -- just like LLM."
   ]
  },
  {
   "cell_type": "code",
   "execution_count": null,
   "metadata": {},
   "outputs": [],
   "source": [
    "import os\n",
    "import datetime\n",
    "from IPython.display import Image\n",
    "from autogen import ConversableAgent"
   ]
  },
  {
   "cell_type": "markdown",
   "metadata": {},
   "source": [
    "Here is an example of a code executor agent:"
   ]
  },
  {
   "cell_type": "code",
   "execution_count": null,
   "metadata": {},
   "outputs": [],
   "source": [
    "code_executor_agent = ConversableAgent(\n",
    "    \"code_executor_agent\",\n",
    "    llm_config=False,  # Turn off LLM for this agent.\n",
    "    code_execution_config={\"executor\": \"commandline-local\"},\n",
    "    human_input_mode=\"ALWAYS\",  # Always take human input for this agent for safety.\n",
    ")"
   ]
  },
  {
   "cell_type": "markdown",
   "metadata": {},
   "source": [
    "The code executor agent is initialized with the `commandline-local` code executor.\n",
    "Just like an agent powered by LLM, the code executor agent can also respond to \n",
    "messages."
   ]
  },
  {
   "cell_type": "code",
   "execution_count": null,
   "metadata": {},
   "outputs": [],
   "source": [
    "reply = code_executor_agent.generate_reply(\n",
    "    messages=[\n",
    "        {\n",
    "            \"role\": \"user\",\n",
    "            \"content\": \"\"\"\n",
    "```python\n",
    "import random\n",
    "print(random.randint(1, 100))\n",
    "```\n",
    "\"\"\",\n",
    "        }\n",
    "    ]\n",
    ")\n",
    "print(reply)"
   ]
  },
  {
   "cell_type": "markdown",
   "metadata": {},
   "source": [
    "When you run the previous code block, you will be prompted for a human feedback,\n",
    "which gives you an option to intercept message because the code executor can run\n",
    "arbitrary code. It is important to have a human in the loop.\n",
    "\n",
    "[Discuss containerization once that piece is ready.]"
   ]
  },
  {
   "cell_type": "markdown",
   "metadata": {},
   "source": [
    "## User Proxy Agent and Assistant Agent\n",
    "\n",
    "[Introduce the two-agent pattern of user proxy and assistant agents, and how does it connect to the code executor.]"
   ]
  },
  {
   "cell_type": "markdown",
   "metadata": {},
   "source": [
    "## Agent and Coding\n",
    "\n",
    "Writing and executing code is necessary for many complex tasks such as \n",
    "data analysis, machine learning, and mathematical modeling. \n",
    "In AutoGen, coding is a conversation between a code writer agent and a \n",
    "code executor agent, mirroring the interaction between a programmer and a\n",
    "code interpreter.\n",
    "\n",
    "The code writer agent can be powered by an LLM such as GPT-4 with code-writing\n",
    "capability.\n",
    "The following is an agent with a code writer role specified \n",
    "using `system_message`."
   ]
  },
  {
   "cell_type": "code",
   "execution_count": null,
   "metadata": {},
   "outputs": [],
   "source": [
    "code_writer_agent = ConversableAgent(\n",
    "    \"code_writer\",\n",
    "    system_message=\"You are an AI assistant. You write code in markdown code \"\n",
    "    \"blocks. You do not execute code yourself, but always ask me to execute code \"\n",
    "    \"for you in an IPython kernel.\",\n",
    "    llm_config={\"config_list\": [{\"model\": \"gpt-4\", \"api_key\": os.environ[\"OPENAI_API_KEY\"]}]},\n",
    "    code_execution_config=False,  # Turn off code execution for this agent.\n",
    ")"
   ]
  },
  {
   "cell_type": "markdown",
   "metadata": {},
   "source": [
    "Here is an example of solving a math problem through a conversation\n",
    "between the code writer and the code executor:"
   ]
  },
  {
   "cell_type": "code",
   "execution_count": null,
   "metadata": {},
   "outputs": [],
   "source": [
    "result = code_executor_agent.initiate_chat(\n",
    "    code_writer_agent,\n",
    "    message=\"Write Python code to calculate the 14th Fibonacci number.\",\n",
    ")"
   ]
  },
  {
   "cell_type": "markdown",
   "metadata": {},
   "source": [
    "During the previous chat session, human input was requested each time\n",
    "the code executor agent responded to ensure that the code was safe to execute."
   ]
  },
  {
   "cell_type": "markdown",
   "metadata": {},
   "source": [
    "Now we can try a more complex example that involves querying the web.\n",
    "Let's say we want to get the the stock prices year-to-date for\n",
    "Tesla and Meta (formerly Facebook). We can also use the two agents\n",
    "with several iterations of conversation.\n"
   ]
  },
  {
   "cell_type": "code",
   "execution_count": null,
   "metadata": {},
   "outputs": [],
   "source": [
    "today = datetime.datetime.now().strftime(\"%Y-%m-%d\")\n",
    "result = code_executor_agent.initiate_chat(\n",
    "    code_writer_agent, message=f\"Today is {today}. Plot a chart for Tesla's and Microsoft's stock prices YTD.\"\n",
    ")"
   ]
  },
  {
   "cell_type": "markdown",
   "metadata": {},
   "source": [
    "Let's take a look at the chart that was generated."
   ]
  },
  {
   "cell_type": "code",
   "execution_count": null,
   "metadata": {},
   "outputs": [],
   "source": [
    "Image(\"31c88163ca9f414ca4ccb20045e4aa84.png\")"
   ]
  },
  {
   "cell_type": "markdown",
   "metadata": {},
   "source": [
    "## Containerization\n",
    "\n",
    "Code executor is a powerful tool, but it can also be dangerous because it can affect the environment it runs it. For example, it can delete files, send data to a remote server, or even mine cryptocurrency. To mitigate these risks, we can run the code executor in a container. This way, the code executor can only access the resources that are explicitly given to it."
   ]
  },
  {
   "cell_type": "markdown",
   "metadata": {},
   "source": [
    "## Jupyter Executor\n",
    "\n",
    "[Introduce the other built-in executor 'jupyter-executor']"
   ]
  },
  {
   "cell_type": "markdown",
   "metadata": {},
   "source": [
    "## Summary\n",
    "\n",
    "[Talk about tool executor and reference a separate chapter.]"
   ]
  }
 ],
 "metadata": {
  "kernelspec": {
   "display_name": "autogen",
   "language": "python",
   "name": "python3"
  },
  "language_info": {
   "codemirror_mode": {
    "name": "ipython",
    "version": 3
   },
   "file_extension": ".py",
   "mimetype": "text/x-python",
   "name": "python",
   "nbconvert_exporter": "python",
   "pygments_lexer": "ipython3",
   "version": "3.11.5"
  }
 },
 "nbformat": 4,
 "nbformat_minor": 2
}
