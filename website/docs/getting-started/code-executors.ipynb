{
 "cells": [
  {
   "cell_type": "markdown",
   "metadata": {},
   "source": [
    "<!--\n",
    "tags: [tutorial]\n",
    "description: Code Executors\n",
    "-->"
   ]
  },
  {
   "cell_type": "markdown",
   "metadata": {},
   "source": [
    "# Code Executors\n",
    "\n",
    "**This chapter is a work in progress, will be updated once the containerized code executor is ready]**\n",
    "\n",
    "In the [last chapter](./human-in-the-loop), \n",
    "we used two agents powered by a large language model (LLM) \n",
    "to play a game. It was a fun exercise, but LLM by itself can only\n",
    "generate text -- it cannot interact with its environment or reliably perform\n",
    "logical operations like arithmetic. \n",
    "\n",
    "In this chapter, we introduce code executor, an AutoGen's agent component that \n",
    "takes input messages with code blocks, performs execution, and output messages\n",
    "with the results.\n",
    "\n",
    "**Note**: Different from many other agent frameworks, AutoGen's code executor\n",
    "can power an entire role of an agent: it can take input messages, execute code,\n",
    "and output messages -- just like LLM."
   ]
  },
  {
   "cell_type": "code",
   "execution_count": null,
   "metadata": {},
   "outputs": [],
   "source": [
    "import os\n",
    "import datetime\n",
    "from IPython.display import Image\n",
    "from autogen import ConversableAgent"
   ]
  },
  {
   "cell_type": "markdown",
   "metadata": {},
   "source": [
    "Here is an example of a code executor agent:"
   ]
  },
  {
   "cell_type": "code",
   "execution_count": 1,
   "metadata": {},
   "outputs": [],
   "source": [
    "code_executor_agent = ConversableAgent(\n",
    "    \"code_executor_agent\",\n",
    "    llm_config=False,  # Turn off LLM for this agent.\n",
    "    code_execution_config={\"executor\": \"ipython-embedded\"},\n",
    "    human_input_mode=\"ALWAYS\",  # Always take human input for this agent for safety.\n",
    ")"
   ]
  },
  {
   "cell_type": "markdown",
   "metadata": {},
   "source": [
    "The code executor agent is initialized with the `ipython-embedded` code executor.\n",
    "This executor runs an IPython kernel in the background and can execute Python\n",
    "code.\n",
    "Just like an agent powered by LLM, the code executor agent can also respond to \n",
    "messages."
   ]
  },
  {
   "cell_type": "code",
   "execution_count": 13,
   "metadata": {},
   "outputs": [
    {
     "name": "stdout",
     "output_type": "stream",
     "text": [
      "\u001b[31m\n",
      ">>>>>>>> NO HUMAN INPUT RECEIVED.\u001b[0m\n",
      "\u001b[31m\n",
      ">>>>>>>> USING AUTO REPLY...\u001b[0m\n",
      "exitcode: 0 (execution succeeded)\n",
      "Code output: 93\n",
      "\n"
     ]
    }
   ],
   "source": [
    "reply = code_executor_agent.generate_reply(\n",
    "    messages=[\n",
    "        {\n",
    "            \"role\": \"user\",\n",
    "            \"content\": \"\"\"\n",
    "```python\n",
    "import random\n",
    "print(random.randint(1, 100))\n",
    "```\n",
    "\"\"\",\n",
    "        }\n",
    "    ],\n",
    "    sender=ConversableAgent(\"user\", llm_config=False),\n",
    ")\n",
    "print(reply)"
   ]
  },
  {
   "cell_type": "markdown",
   "metadata": {},
   "source": [
    "When you run the previous code block, you will be prompted for a human feedback,\n",
    "which gives you an option to intercept message because the code executor can run\n",
    "arbitrary code. It is important to have a human in the loop.\n",
    "\n",
    "[Discuss containerization once that piece is ready.]"
   ]
  },
  {
   "cell_type": "markdown",
   "metadata": {},
   "source": [
    "## Agent and Coding\n",
    "\n",
    "Writing and executing code is necessary for many complex tasks such as \n",
    "data analysis, machine learning, and mathematical modeling. \n",
    "In AutoGen, coding is a conversation between a code writer agent and a \n",
    "code executor agent, mirroring the interaction between a programmer and a\n",
    "code interpreter.\n",
    "\n",
    "The code writer agent can be powered by an LLM such as GPT-4 with code-writing\n",
    "capability.\n",
    "The following is an agent with a code writer role specified \n",
    "using `system_message`."
   ]
  },
  {
   "cell_type": "code",
   "execution_count": 2,
   "metadata": {},
   "outputs": [],
   "source": [
    "code_writer_agent = ConversableAgent(\n",
    "    \"code_writer\",\n",
    "    system_message=\"You are an AI assistant. You write code in markdown code \"\n",
    "    \"blocks. You do not execute code yourself, but always ask me to execute code \"\n",
    "    \"for you in an IPython kernel.\",\n",
    "    llm_config={\"config_list\": [{\"model\": \"gpt-4\", \"api_key\": os.environ[\"OPENAI_API_KEY\"]}]},\n",
    "    code_execution_config=False,  # Turn off code execution for this agent.\n",
    ")"
   ]
  },
  {
   "cell_type": "markdown",
   "metadata": {},
   "source": [
    "Here is an example of solving a math problem through a conversation\n",
    "between the code writer and the code executor:"
   ]
  },
  {
   "cell_type": "code",
   "execution_count": 22,
   "metadata": {},
   "outputs": [
    {
     "name": "stdout",
     "output_type": "stream",
     "text": [
      "\u001b[33mcode_executor_agent\u001b[0m (to code_writer):\n",
      "\n",
      "Write Python code to calculate the 14th Fibonacci number.\n",
      "\n",
      "--------------------------------------------------------------------------------\n",
      "\u001b[31m\n",
      ">>>>>>>> USING AUTO REPLY...\u001b[0m\n",
      "\u001b[33mcode_writer\u001b[0m (to code_executor_agent):\n",
      "\n",
      "Alright, here's a Python function that uses the iterative approach to calculate the N-th Fibonacci number:\n",
      "\n",
      "```python\n",
      "def fibonacci(n):\n",
      "    a, b = 0, 1\n",
      "    for _ in range(n):\n",
      "        a, b = b, a + b\n",
      "    return a\n",
      "\n",
      "# calculate the 14th Fibonacci number\n",
      "fibonacci_14 = fibonacci(14)\n",
      "fibonacci_14\n",
      "```\n",
      "Would you please execute this code?\n",
      "\n",
      "--------------------------------------------------------------------------------\n",
      "\u001b[31m\n",
      ">>>>>>>> NO HUMAN INPUT RECEIVED.\u001b[0m\n",
      "\u001b[31m\n",
      ">>>>>>>> USING AUTO REPLY...\u001b[0m\n",
      "\u001b[33mcode_executor_agent\u001b[0m (to code_writer):\n",
      "\n",
      "exitcode: 0 (execution succeeded)\n",
      "Code output: 377\n",
      "\n",
      "--------------------------------------------------------------------------------\n",
      "\u001b[31m\n",
      ">>>>>>>> USING AUTO REPLY...\u001b[0m\n",
      "\u001b[33mcode_writer\u001b[0m (to code_executor_agent):\n",
      "\n",
      "The 14th Fibonacci number is 377.\n",
      "\n",
      "--------------------------------------------------------------------------------\n"
     ]
    }
   ],
   "source": [
    "result = code_executor_agent.initiate_chat(\n",
    "    code_writer_agent,\n",
    "    message=\"Write Python code to calculate the 14th Fibonacci number.\",\n",
    ")"
   ]
  },
  {
   "cell_type": "markdown",
   "metadata": {},
   "source": [
    "During the previous chat session, human input was requested each time\n",
    "the code executor agent responded to ensure that the code was safe to execute."
   ]
  },
  {
   "cell_type": "markdown",
   "metadata": {},
   "source": [
    "Now we can try a more complex example that involves querying the web.\n",
    "Let's say we want to get the the stock prices year-to-date for\n",
    "Tesla and Meta (formerly Facebook). We can also use the two agents\n",
    "with several iterations of conversation.\n"
   ]
  },
  {
   "cell_type": "code",
   "execution_count": 4,
   "metadata": {},
   "outputs": [
    {
     "name": "stdout",
     "output_type": "stream",
     "text": [
      "\u001b[33mcode_executor_agent\u001b[0m (to code_writer):\n",
      "\n",
      "Today is 2024-02-16. Plot a chart for Tesla's and Microsoft's stock prices YTD.\n",
      "\n",
      "--------------------------------------------------------------------------------\n",
      "\u001b[31m\n",
      ">>>>>>>> USING AUTO REPLY...\u001b[0m\n",
      "\u001b[33mcode_writer\u001b[0m (to code_executor_agent):\n",
      "\n",
      "I would love to, but as an text-based AI, I don't have real-time access to data from the internet, including stock prices. However, I can certainly guide you through the steps of doing this using Python. \n",
      "\n",
      "First, you will need to install `yfinance`, which will allow us to download historical market data from Yahoo Finance. You can do this by running `!pip install yfinance`.\n",
      "\n",
      "Next, you should import the required libraries and download the data:\n",
      "\n",
      "```python\n",
      "import yfinance as yf\n",
      "import matplotlib.pyplot as plt\n",
      "\n",
      "# Download historical data as dataframes\n",
      "tesla_stock = yf.download('TSLA', start='2024-01-01', end='2024-02-16')\n",
      "microsoft_stock = yf.download('MSFT', start='2024-01-01', end='2024-02-16')\n",
      "```\n",
      "Once you have the data, You can plot their adjusted closing prices on the same chart:\n",
      "\n",
      "```python\n",
      "plt.figure(figsize=(14,7))\n",
      "\n",
      "# Plot Tesla stock\n",
      "plt.plot(tesla_stock.index, tesla_stock['Adj Close'], label='Tesla')\n",
      "\n",
      "# Plot Microsoft stock\n",
      "plt.plot(microsoft_stock.index, microsoft_stock['Adj Close'], label='Microsoft')\n",
      "\n",
      "plt.title('Adjusted closing price (YTD)', fontsize=16)\n",
      "plt.xlabel('Date', fontsize=14)\n",
      "plt.ylabel('Adjusted closing price ($)', fontsize=14)\n",
      "plt.legend(fontsize=12)\n",
      "plt.grid(True)\n",
      "plt.show()\n",
      "```\n",
      "This script should give you a chart showing the adjusted closing prices of Tesla and Microsoft stocks from the start of 2024 to February 16, 2024. If you need help interpreting the chart or have other questions, feel free to ask!\n",
      "\n",
      "--------------------------------------------------------------------------------\n",
      "\u001b[31m\n",
      ">>>>>>>> NO HUMAN INPUT RECEIVED.\u001b[0m\n",
      "\u001b[31m\n",
      ">>>>>>>> USING AUTO REPLY...\u001b[0m\n",
      "\u001b[33mcode_executor_agent\u001b[0m (to code_writer):\n",
      "\n",
      "exitcode: 0 (execution succeeded)\n",
      "Code output: c:\\Users\\ekzhu\\AppData\\Local\\anaconda3\\envs\\autogen\\Lib\\site-packages\\yfinance\\utils.py:775: FutureWarning: The 'unit' keyword in TimedeltaIndex construction is deprecated and will be removed in a future version. Use pd.to_timedelta instead.\n",
      "  df.index += _pd.TimedeltaIndex(dst_error_hours, 'h')\n",
      "[*********************100%%**********************]  1 of 1 completed\n",
      "\n",
      "\n",
      "c:\\Users\\ekzhu\\AppData\\Local\\anaconda3\\envs\\autogen\\Lib\\site-packages\\yfinance\\utils.py:775: FutureWarning: The 'unit' keyword in TimedeltaIndex construction is deprecated and will be removed in a future version. Use pd.to_timedelta instead.\n",
      "  df.index += _pd.TimedeltaIndex(dst_error_hours, 'h')\n",
      "[*********************100%%**********************]  1 of 1 completed\n",
      "\n",
      "\n",
      "<Figure size 1400x700 with 1 Axes>\n",
      "Image data saved to c:\\Users\\ekzhu\\autogen\\website\\docs\\Tutorial\\31c88163ca9f414ca4ccb20045e4aa84.png\n",
      "\n",
      "--------------------------------------------------------------------------------\n",
      "\u001b[31m\n",
      ">>>>>>>> USING AUTO REPLY...\u001b[0m\n",
      "\u001b[33mcode_writer\u001b[0m (to code_executor_agent):\n",
      "\n",
      "Great! It seems your code was executed successfully and the plot with Tesla's and Microsoft's stock prices was generated. If you need any further assistance, feel free to ask.\n",
      "\n",
      "--------------------------------------------------------------------------------\n",
      "\u001b[33mcode_executor_agent\u001b[0m (to code_writer):\n",
      "\n",
      "How much gain for each stock YTD?\n",
      "\n",
      "--------------------------------------------------------------------------------\n",
      "\u001b[31m\n",
      ">>>>>>>> USING AUTO REPLY...\u001b[0m\n",
      "\u001b[33mcode_writer\u001b[0m (to code_executor_agent):\n",
      "\n",
      "To calculate the gain or loss of each stock Year-to-Date (YTD), you can use the formula:\n",
      "\n",
      "`(Current price - Price at the start of the year) / Price at the start of the year * 100%`\n",
      "\n",
      "You may obtain the desired information in Python using the following code:\n",
      "\n",
      "```python\n",
      "# Calculate gain or loss on year-to-date\n",
      "tesla_gain_YTD = (tesla_stock['Adj Close'][-1] - tesla_stock['Adj Close'][0]) / tesla_stock['Adj Close'][0] * 100\n",
      "microsoft_gain_YTD = (microsoft_stock['Adj Close'][-1] - microsoft_stock['Adj Close'][0]) / microsoft_stock['Adj Close'][0] * 100\n",
      "\n",
      "# Print the result\n",
      "print(f'Tesla\\'s stock has changed by {tesla_gain_YTD:.2f}% since the beginning of the year.')\n",
      "print(f'Microsoft\\'s stock has changed by {microsoft_gain_YTD:.2f}% since the beginning of the year.')\n",
      "```\n",
      "\n",
      "Here, `tesla_stock` and `microsoft_stock` are DataFrames holding the stock data. The `Adj Close` column represents the closing price of the stock, adjusted for corporate actions such as dividends and stock splits. The `[0]` or `[-1]` index is used to access the first (start of the year) or the last (most recent) stock price, respectively. The gain or loss is then calculated as above. The `:.2f` in the string formatting is used to round the result to 2 decimal places.\n",
      "\n",
      "--------------------------------------------------------------------------------\n",
      "\u001b[31m\n",
      ">>>>>>>> NO HUMAN INPUT RECEIVED.\u001b[0m\n",
      "\u001b[31m\n",
      ">>>>>>>> USING AUTO REPLY...\u001b[0m\n",
      "\u001b[33mcode_executor_agent\u001b[0m (to code_writer):\n",
      "\n",
      "exitcode: 0 (execution succeeded)\n",
      "Code output: Tesla's stock has changed by -19.31% since the beginning of the year.\n",
      "Microsoft's stock has changed by 9.83% since the beginning of the year.\n",
      "\n",
      "C:\\Users\\ekzhu\\AppData\\Local\\Temp\\ipykernel_18220\\3394466230.py:2: FutureWarning: Series.__getitem__ treating keys as positions is deprecated. In a future version, integer keys will always be treated as labels (consistent with DataFrame behavior). To access a value by position, use `ser.iloc[pos]`\n",
      "  tesla_gain_YTD = (tesla_stock['Adj Close'][-1] - tesla_stock['Adj Close'][0]) / tesla_stock['Adj Close'][0] * 100\n",
      "C:\\Users\\ekzhu\\AppData\\Local\\Temp\\ipykernel_18220\\3394466230.py:3: FutureWarning: Series.__getitem__ treating keys as positions is deprecated. In a future version, integer keys will always be treated as labels (consistent with DataFrame behavior). To access a value by position, use `ser.iloc[pos]`\n",
      "  microsoft_gain_YTD = (microsoft_stock['Adj Close'][-1] - microsoft_stock['Adj Close'][0]) / microsoft_stock['Adj Close'][0] * 100\n",
      "\n",
      "\n",
      "--------------------------------------------------------------------------------\n",
      "\u001b[31m\n",
      ">>>>>>>> USING AUTO REPLY...\u001b[0m\n",
      "\u001b[33mcode_writer\u001b[0m (to code_executor_agent):\n",
      "\n",
      "It seems that the code was executed successfully. Here're the results:\n",
      "\n",
      "- Tesla's stock price has decreased by 19.31% since the beginning of the year.\n",
      "- Microsoft's stock price has increased by 9.83% since the beginning of the year.\n",
      "\n",
      "This indicates that Microsoft's stock has performed better than Tesla's stock so far this year.\n",
      "\n",
      "Please note that the warning you saw originated from using series indexers, i.e., 0 and -1 indices with 'Adj Close' column to access the first and the last element. As of pandas 1.0.0, using .iloc is suggested for the same. The warning is just to ensure future compatibility of your code.\n",
      "\n",
      "--------------------------------------------------------------------------------\n"
     ]
    }
   ],
   "source": [
    "today = datetime.datetime.now().strftime(\"%Y-%m-%d\")\n",
    "result = code_executor_agent.initiate_chat(\n",
    "    code_writer_agent, message=f\"Today is {today}. Plot a chart for Tesla's and Microsoft's stock prices YTD.\"\n",
    ")"
   ]
  },
  {
   "cell_type": "markdown",
   "metadata": {},
   "source": [
    "Let's take a look at the chart that was generated."
   ]
  },
  {
   "cell_type": "code",
   "execution_count": 5,
   "metadata": {},
   "outputs": [
    {
     "data": {
      "image/png": "[encoded data removed]",
      "text/plain": [
       "<IPython.core.display.Image object>"
      ]
     },
     "execution_count": 5,
     "metadata": {},
     "output_type": "execute_result"
    }
   ],
   "source": [
    "Image(\"31c88163ca9f414ca4ccb20045e4aa84.png\")"
   ]
  },
  {
   "cell_type": "markdown",
   "metadata": {},
   "source": [
    "## Containerization\n",
    "\n",
    "Code executor is a powerful tool, but it can also be dangerous because it can affect the environment it runs it. For example, it can delete files, send data to a remote server, or even mine cryptocurrency. To mitigate these risks, we can run the code executor in a container. This way, the code executor can only access the resources that are explicitly given to it."
   ]
  },
  {
   "cell_type": "markdown",
   "metadata": {},
   "source": [
    "## Summary\n",
    "\n",
    "[Talk about tool executor and reference a separate chapter.]"
   ]
  }
 ],
 "metadata": {
  "kernelspec": {
   "display_name": "autogen",
   "language": "python",
   "name": "python3"
  },
  "language_info": {
   "codemirror_mode": {
    "name": "ipython",
    "version": 3
   },
   "file_extension": ".py",
   "mimetype": "text/x-python",
   "name": "python",
   "nbconvert_exporter": "python",
   "pygments_lexer": "ipython3",
   "version": "3.11.5"
  }
 },
 "nbformat": 4,
 "nbformat_minor": 2
}
