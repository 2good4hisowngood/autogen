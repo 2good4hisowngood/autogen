{
 "cells": [
  {
   "cell_type": "markdown",
   "metadata": {},
   "source": [
    "<!--\n",
    "tags: [tutorial]\n",
    "description: Code Executors\n",
    "-->"
   ]
  },
  {
   "cell_type": "markdown",
   "metadata": {},
   "source": [
    "# Code Executors\n",
    "\n",
    "In the [last chapter](./human-in-the-loop), \n",
    "we used two agents powered by a large language model (LLM) to play a game. \n",
    "It was a fun exercise, but LLM by itself can only\n",
    "generate text -- it cannot interact with its environment or performing useful\n",
    "computations. \n",
    "\n",
    "In this chapter, we introduce code executor, an AutoGen's agent component that \n",
    "takes input messages with code blocks, performs execution, and output messages\n",
    "with the results. There are currently two of types of built-in code \n",
    "executors available in AutoGen: command line executor and Jupyter executor.\n",
    "For each type, there is a local version and a remote (i.e., docker) version.\n",
    "\n",
    "We first cover the executors by themselves, and then show how to use\n",
    "them in agent-to-agent conversation to solve coding tasks.\n",
    "\n",
    "**Note**: Different from many other agent frameworks, AutoGen's code executor\n",
    "can power an entire role of an agent: it can take input messages, execute code,\n",
    "and output messages -- just like LLM."
   ]
  },
  {
   "cell_type": "code",
   "execution_count": 89,
   "metadata": {},
   "outputs": [],
   "source": [
    "import os\n",
    "import tempfile\n",
    "import shutil\n",
    "import datetime\n",
    "import pprint\n",
    "from IPython.display import Image\n",
    "from autogen import ConversableAgent, UserProxyAgent, AssistantAgent"
   ]
  },
  {
   "cell_type": "markdown",
   "metadata": {},
   "source": [
    "## Command Line Code Executor\n",
    "\n",
    "The command line code executor runs code in a local or remote command line\n",
    "environment. It is useful for running code blocks of different programming\n",
    "languages (i.e., Python, R, etc.) in the same conversation, \n",
    "and code blocks that each is a complete script or source of executable.\n",
    "Each code block is executed in a new subprocess, so the variables created\n",
    "within one code block are not accessible in another code block."
   ]
  },
  {
   "cell_type": "markdown",
   "metadata": {},
   "source": [
    "### Local Command Line Code Executor\n",
    "\n",
    "The local command line code executor runs code in the same environment as the\n",
    "AutoGen agent. It is useful mostly for development and testing, but not ideal\n",
    "for production use case, as LLM can generate arbitrary code.\n",
    "\n",
    "The figure below illustrates how does the local command line code executor work.\n",
    "\n",
    "```{=mdx}\n",
    "![Local Command Line Code Executor](./assets/local-command-line-code-executor.png)\n",
    "```\n",
    "\n",
    "Once receiving a message with a code block, the local command line code executor\n",
    "first writes the code block to a code file, then start a new subprocess to\n",
    "execute the code file. The executor reads the console output of the \n",
    "code execution and sends it back as a reply message.\n",
    "\n",
    "Here is an example of using the local command line code executor to run a Python\n",
    "code block that prints a random number.\n",
    "First we create an agent with the local command line code executor\n",
    "that uses a temporary directory to store the code files."
   ]
  },
  {
   "cell_type": "code",
   "execution_count": 38,
   "metadata": {},
   "outputs": [],
   "source": [
    "# Create a temporary directory to store the code files.\n",
    "temp_dir = tempfile.mkdtemp()\n",
    "\n",
    "# Create an agent with code executor configuration for a local command line\n",
    "# code executor.\n",
    "code_executor_agent = ConversableAgent(\n",
    "    \"code_executor_agent\",\n",
    "    llm_config=False,  # Turn off LLM for this agent.\n",
    "    code_execution_config={\n",
    "        \"executor\": \"commandline-local\",  # Use the local command line executor.\n",
    "        \"commandline-local\": {\n",
    "            \"timeout\": 10,  # Timeout for each code execution in seconds.\n",
    "            \"work_dir\": temp_dir,  # Use the temporary directory to store the code files.\n",
    "        },\n",
    "    },\n",
    "    human_input_mode=\"ALWAYS\",  # Always take human input for this agent for safety.\n",
    ")"
   ]
  },
  {
   "cell_type": "markdown",
   "metadata": {},
   "source": [
    "Now we have the agent generate a reply given a message with a Python code block."
   ]
  },
  {
   "cell_type": "code",
   "execution_count": 60,
   "metadata": {},
   "outputs": [
    {
     "name": "stdout",
     "output_type": "stream",
     "text": [
      "\u001b[31m\n",
      ">>>>>>>> NO HUMAN INPUT RECEIVED.\u001b[0m\n",
      "\u001b[31m\n",
      ">>>>>>>> USING AUTO REPLY...\u001b[0m\n",
      "\u001b[31m\n",
      ">>>>>>>> EXECUTING CODE BLOCK 0 (inferred language is python)...\u001b[0m\n",
      "exitcode: 0 (execution succeeded)\n",
      "Code output: \n",
      "A Random Number:  39\n",
      "\n"
     ]
    }
   ],
   "source": [
    "message_with_code_block = (\n",
    "    \"This is a message with code block. \"\n",
    "    \"The code block is below: \\n\"\n",
    "    \"```python\\n\"\n",
    "    \"import random\\n\"\n",
    "    \"print('A Random Number: ', random.randint(1, 100))\\n\"\n",
    "    \"```\\n\"\n",
    "    \"This is the end of the message.\\n\"\n",
    ")\n",
    "\n",
    "# Generate a reply for the given code.\n",
    "reply = code_executor_agent.generate_reply(messages=[{\"role\": \"user\", \"content\": message_with_code_block}])\n",
    "print(reply)"
   ]
  },
  {
   "cell_type": "markdown",
   "metadata": {},
   "source": [
    "During the generation of response, a human input is requested to give an opportunity\n",
    "to intercept the code execution.\n",
    "In this case, we choose to continue the execution, \n",
    "and the agent's reply contains the output of the code execution.\n",
    "\n",
    "We can take a look at the code file that was created in the temporary directory."
   ]
  },
  {
   "cell_type": "code",
   "execution_count": 36,
   "metadata": {},
   "outputs": [
    {
     "name": "stdout",
     "output_type": "stream",
     "text": [
      "['4595c0528b2d49d396732d9be1470a35.py']\n",
      "import random\n",
      "print('A Random Number: ', random.randint(1, 100))\n"
     ]
    }
   ],
   "source": [
    "code_files = os.listdir(temp_dir)\n",
    "print(code_files)\n",
    "print(open(os.path.join(temp_dir, code_files[0])).read())"
   ]
  },
  {
   "cell_type": "markdown",
   "metadata": {},
   "source": [
    "The code file matches the code block that we sent to the agent.\n",
    "\n",
    "Finally, let's clean up the temporary directory."
   ]
  },
  {
   "cell_type": "code",
   "execution_count": 37,
   "metadata": {},
   "outputs": [],
   "source": [
    "shutil.rmtree(temp_dir)"
   ]
  },
  {
   "cell_type": "markdown",
   "metadata": {},
   "source": [
    "### Docker Command Line Code Executor\n",
    "\n",
    "Code executor is a powerful tool, but it can also be dangerous because it can \n",
    "affect the environment it runs it. \n",
    "For example, it can delete files, send data to a remote server, \n",
    "or even mine cryptocurrency. \n",
    "To mitigate these risks, we can execute code in a docker container. \n",
    "This way, the generated code can only access resources that are explicitly \n",
    "given to it.\n",
    "\n",
    "The figure below illustrates how does the docker command line code executor work.\n",
    "\n",
    "```{=mdx}\n",
    "![Docker Command Line Code Executor](./assets/docker-command-line-executor.png)\n",
    "```\n",
    "\n",
    "Similar to the local command line code executor, the docker command line code\n",
    "executor extracts code blocks from input messages, writes them to code files.\n",
    "For each code file, it starts a docker container to execute the code file,\n",
    "and reads the console output of the code execution.\n",
    "\n",
    "[Discuss containerization once that piece is ready.]"
   ]
  },
  {
   "cell_type": "markdown",
   "metadata": {},
   "source": [
    "## Jupyter Code Executors\n",
    "\n",
    "The command line code executor is useful for executing scripts, however, it does\n",
    "not keeps the variables created during execution in memory.\n",
    "If the code execution encounters an error, the script would be modified and\n",
    "executed again, and all previous progress would be lost.\n",
    "In some use cases, such as data analysis and machine learning, parts of the code\n",
    "may be expensive or slow to run, e.g., loading data and running training, \n",
    "so we really want to keep the variables in memory to avoid re-running the \n",
    "entire code.\n",
    "\n",
    "Jupyter code executors are designed for these use cases.\n",
    "It runs code in a stateful, interactive kernel, \n",
    "such as a Python kernel or a Scala kernel, and keeps the variables in memory \n",
    "so the variables created in one code block are accessible in a subsequent \n",
    "code block.\n",
    "If one code block encounters an error, the previous variables are still in memory,\n",
    "and only the buggy code block needs to be modified and re-executed.\n",
    "\n",
    "There are two types of Jupyter code executors: local Jupyter code executor and\n",
    "remote Jupyter code executor."
   ]
  },
  {
   "cell_type": "markdown",
   "metadata": {},
   "source": [
    "### Local Jupyter Code Executor\n",
    "\n",
    "The local Jupyter code executor starts a Jupyter server in the same environment\n",
    "as the AutoGen agent as a subprocess.\n",
    "The figure below illustrates how does the local Jupyter code executor work.\n",
    "\n",
    "```{=mdx}\n",
    "![Local Jupyter Code Executor](./assets/local-jupyter-code-executor.png)\n",
    "```\n",
    "\n",
    "Upon receiving a message with a code block, the local Jupyter code executor\n",
    "sends the code block to the Jupyter server to have it executed in a kernel.\n",
    "Then, it receives the output of the code execution.\n",
    "Under the hood, the executor communicates with the Jupyter server \n",
    "through websocket."
   ]
  },
  {
   "cell_type": "markdown",
   "metadata": {},
   "source": [
    "Let us see an example of using the local Jupyter code executor to run a Python\n",
    "code block that generates some random numbers, and then use the variable in \n",
    "a subsequent code block.\n",
    "\n",
    "First we need to install additional dependencies to use the Jupyter executor."
   ]
  },
  {
   "cell_type": "code",
   "execution_count": 33,
   "metadata": {},
   "outputs": [],
   "source": [
    "! pip install -qqq 'pyautogen[local-jupyter-exec]'"
   ]
  },
  {
   "cell_type": "markdown",
   "metadata": {},
   "source": [
    "Due to a bug in jupyter kernel gateway on Windows, please use the following\n",
    "installation command on Windows."
   ]
  },
  {
   "cell_type": "code",
   "execution_count": 34,
   "metadata": {},
   "outputs": [],
   "source": [
    "# ! pip install -qqq 'pyautogen[ipython]'"
   ]
  },
  {
   "cell_type": "markdown",
   "metadata": {},
   "source": [
    "We create an agent with a local Jupyter code executor, and asks it to\n",
    "generates a reply with a given code block in markdown."
   ]
  },
  {
   "cell_type": "code",
   "execution_count": 54,
   "metadata": {},
   "outputs": [],
   "source": [
    "temp_dir = tempfile.mkdtemp()\n",
    "\n",
    "# Create an agent with code executor configuration for a local Jupyter\n",
    "# code executor.\n",
    "jupyter_agent = ConversableAgent(\n",
    "    name=\"Jupyter_Agent\",\n",
    "    llm_config=False,\n",
    "    code_execution_config={\n",
    "        \"executor\": \"jupyter-local\",  # Use the local Jupyter executor.\n",
    "        # On Windows use \"ipython-embedded\" instead of \"jupyter-local\"\n",
    "        # due to a known issue with Jupyter Kernel Gateway on Windows.\n",
    "        \"jupyter-local\": {\n",
    "            \"timeout\": 60,  # Timeout for each code execution in seconds.\n",
    "            \"kernel_name\": \"python3\",  # Use the Python 3 kernel, which is the default.\n",
    "            \"output_dir\": temp_dir,  # Use the temporary directory to store output images.\n",
    "        },\n",
    "    },\n",
    "    human_input_mode=\"ALWAYS\",\n",
    ")"
   ]
  },
  {
   "cell_type": "markdown",
   "metadata": {},
   "source": [
    "Ask the agent to generate a reply for a message that contains two Python\n",
    "code blocks."
   ]
  },
  {
   "cell_type": "code",
   "execution_count": 55,
   "metadata": {},
   "outputs": [
    {
     "name": "stdout",
     "output_type": "stream",
     "text": [
      "\u001b[31m\n",
      ">>>>>>>> NO HUMAN INPUT RECEIVED.\u001b[0m\n",
      "\u001b[31m\n",
      ">>>>>>>> USING AUTO REPLY...\u001b[0m\n",
      "exitcode: 0 (execution succeeded)\n",
      "Code output: \n",
      "\n"
     ]
    }
   ],
   "source": [
    "message_with_code_blocks_1 = (\n",
    "    \"First import the required libraries: \\n\"\n",
    "    \"```python\\n\"\n",
    "    \"import numpy as np\\n\"\n",
    "    \"import matplotlib.pyplot as plt\\n\"\n",
    "    \"```\\n\"\n",
    "    \"\\n\"\n",
    "    \"Now let's generate random numbers.\\n\"\n",
    "    \"```python\\n\"\n",
    "    \"np.random.seed(0)\\n\"\n",
    "    \"x = np.random.rand(100)\\n\"\n",
    "    \"y = np.random.rand(100)\\n\"\n",
    "    \"````n\"\n",
    ")\n",
    "\n",
    "# Generate a reply for the first code message.\n",
    "reply = jupyter_agent.generate_reply(\n",
    "    messages=[\n",
    "        {\n",
    "            \"role\": \"user\",\n",
    "            \"content\": message_with_code_blocks_1,\n",
    "        }\n",
    "    ]\n",
    ")\n",
    "print(reply)"
   ]
  },
  {
   "cell_type": "markdown",
   "metadata": {},
   "source": [
    "Ask the agent to generate a reply for a message that contains a Python code\n",
    "block that generates a plot using the variables from the code block\n",
    "in the previous message."
   ]
  },
  {
   "cell_type": "code",
   "execution_count": 57,
   "metadata": {},
   "outputs": [
    {
     "name": "stdout",
     "output_type": "stream",
     "text": [
      "\u001b[31m\n",
      ">>>>>>>> NO HUMAN INPUT RECEIVED.\u001b[0m\n",
      "\u001b[31m\n",
      ">>>>>>>> USING AUTO REPLY...\u001b[0m\n",
      "exitcode: 0 (execution succeeded)\n",
      "Code output: <Figure size 640x480 with 1 Axes>\n",
      "Image data saved to /var/folders/1j/84srcy411pv53xkqm57pvgnr0000gn/T/tmptwn7jp72/77cfc432c7a946d48c47c7932e467c03.png\n"
     ]
    }
   ],
   "source": [
    "message_with_code_blocks_2 = (\n",
    "    \"Now let's plot the random numbers. \\n\"\n",
    "    \"```python\\n\"\n",
    "    \"plt.scatter(x, y)\\n\"\n",
    "    \"plt.xlabel('X')\\n\"\n",
    "    \"plt.ylabel('Y')\\n\"\n",
    "    \"plt.title('Random Numbers')\\n\"\n",
    "    \"plt.show()\\n\"\n",
    "    \"```\\n\"\n",
    ")\n",
    "\n",
    "# Generate a reply for the second code message.\n",
    "reply = jupyter_agent.generate_reply(\n",
    "    messages=[\n",
    "        {\n",
    "            \"role\": \"user\",\n",
    "            \"content\": message_with_code_blocks_2,\n",
    "        }\n",
    "    ]\n",
    ")\n",
    "print(reply)"
   ]
  },
  {
   "cell_type": "markdown",
   "metadata": {},
   "source": [
    "From the output, we can see that the code blocks from all the messages are \n",
    "executed in the same kernel, and the variables `x` and `y` created in the\n",
    "first message's code block are accessible in the second message's code block.\n",
    "\n",
    "Let's take a look at the output of the plot in the output directory."
   ]
  },
  {
   "cell_type": "code",
   "execution_count": 58,
   "metadata": {},
   "outputs": [
    {
     "name": "stdout",
     "output_type": "stream",
     "text": [
      "['77cfc432c7a946d48c47c7932e467c03.png']\n"
     ]
    },
    {
     "data": {
      "image/png": "[encoded data removed]",
      "text/plain": [
       "<IPython.core.display.Image object>"
      ]
     },
     "execution_count": 58,
     "metadata": {},
     "output_type": "execute_result"
    }
   ],
   "source": [
    "output_files = os.listdir(temp_dir)\n",
    "print(output_files)\n",
    "Image(os.path.join(temp_dir, output_files[0]))"
   ]
  },
  {
   "cell_type": "markdown",
   "metadata": {},
   "source": [
    "Don't forget to clean up the temporary directory."
   ]
  },
  {
   "cell_type": "code",
   "execution_count": 59,
   "metadata": {},
   "outputs": [],
   "source": [
    "shutil.rmtree(temp_dir)"
   ]
  },
  {
   "cell_type": "markdown",
   "metadata": {},
   "source": [
    "You can restart the Jupyter server by calling the `restart` method on the\n",
    "agent's `code_executor` attribute."
   ]
  },
  {
   "cell_type": "code",
   "execution_count": 79,
   "metadata": {},
   "outputs": [],
   "source": [
    "jupyter_agent.code_executor.restart()"
   ]
  },
  {
   "cell_type": "markdown",
   "metadata": {},
   "source": [
    "### Remote Jupyter Code Executor\n",
    "\n",
    "[Discuss the remote Jupyter executor once that piece is ready.]"
   ]
  },
  {
   "cell_type": "markdown",
   "metadata": {},
   "source": [
    "## Use Code Execution in Conversation\n",
    "\n",
    "Writing and executing code is necessary for many tasks such as \n",
    "data analysis, machine learning, and mathematical modeling.\n",
    "In AutoGen, coding can be a conversation between a code writer agent and a \n",
    "code executor agent, mirroring the interaction between a programmer and a\n",
    "code interpreter.\n",
    "\n",
    "```{=mdx}\n",
    "![Code Writer and Code Executor](./assets/code-execution-in-conversation.png)\n",
    "```\n",
    "\n",
    "The code writer agent can be powered by an LLM such as GPT-4 with code-writing\n",
    "capability.\n",
    "And the code executor agent is powered by a code executor.\n",
    "\n",
    "The following is an agent with a code writer role specified \n",
    "using `system_message`."
   ]
  },
  {
   "cell_type": "code",
   "execution_count": 63,
   "metadata": {},
   "outputs": [],
   "source": [
    "# The code writer agent's system message is to instruct the LLM on how to\n",
    "# use the Jupyter code executor with IPython kernel.\n",
    "code_writer_system_message = (\n",
    "    \"You have been given coding capability to solve tasks using Python code in a stateful IPython kernel.\\n\"\n",
    "    \"You are responsible for writing the code, and the user is responsible for executing the code.\\n\"\n",
    "    \"\\n\"\n",
    "    \"When you write Python code, put the code in a markdown code block with the language set to Python.\\n\"\n",
    "    \"For example:\\n\"\n",
    "    \"```python\\n\"\n",
    "    \"x = 3\\n\"\n",
    "    \"```\\n\"\n",
    "    \"You can use the variable `x` in subsequent code blocks.\\n\"\n",
    "    \"```python\\n\"\n",
    "    \"print(x)\\n\"\n",
    "    \"```\\n\"\n",
    "    \"\\n\"\n",
    "    \"Write code incrementally and leverage the statefulness of the kernel to avoid repeating code.\\n\"\n",
    "    \"Import libraries in a separate code block.\\n\"\n",
    "    \"Define a function or a class in a separate code block.\\n\"\n",
    "    \"Run code that produces output in a separate code block.\\n\"\n",
    "    \"Run code that involves expensive operations like download, upload, and call external APIs in a separate code block.\\n\"\n",
    "    \"\\n\"\n",
    "    \"When your code produces an output, the output will be returned to you.\\n\"\n",
    "    \"Because you have limited conversation memory, if your code creates an image,\\n\"\n",
    "    \"the output will be a path to the image instead of the image itself.\\n\"\n",
    ")\n",
    "\n",
    "code_writer_agent = ConversableAgent(\n",
    "    \"code_writer\",\n",
    "    system_message=code_writer_system_message,\n",
    "    llm_config={\"config_list\": [{\"model\": \"gpt-4\", \"api_key\": os.environ[\"OPENAI_API_KEY\"]}]},\n",
    "    code_execution_config=False,  # Turn off code execution for this agent.\n",
    ")"
   ]
  },
  {
   "cell_type": "markdown",
   "metadata": {},
   "source": [
    "We need to install additional dependencies to use the Jupyter executor."
   ]
  },
  {
   "cell_type": "code",
   "execution_count": 64,
   "metadata": {},
   "outputs": [],
   "source": [
    "! pip install -qqq 'pyautogen[local-jupyter-exec]'\n",
    "# On Windows, use the following due to a known issue with Jupyter Kernel Gateway.\n",
    "# ! pip install -qqq 'pyautogen[ipython]'"
   ]
  },
  {
   "cell_type": "markdown",
   "metadata": {},
   "source": [
    "The following is an agent with a code executor role specified using \n",
    "its `code_execution_config`. It uses a local Jupyter code executor\n",
    "with `python3` kernel."
   ]
  },
  {
   "cell_type": "code",
   "execution_count": 81,
   "metadata": {},
   "outputs": [],
   "source": [
    "# Create a temporary directory to store the output images.\n",
    "temp_dir = tempfile.mkdtemp()\n",
    "\n",
    "# Create an agent with code executor configuration for a local Jupyter\n",
    "# code executor.\n",
    "code_executor_agent = ConversableAgent(\n",
    "    name=\"code_executor_agent\",\n",
    "    llm_config=False,\n",
    "    code_execution_config={\n",
    "        \"executor\": \"jupyter-local\",  # Use the local Jupyter executor.\n",
    "        # On Windows use \"ipython-embedded\" instead of \"jupyter-local\"\n",
    "        # due to a known issue with Jupyter Kernel Gateway on Windows.\n",
    "        \"jupyter-local\": {\n",
    "            \"timeout\": 60,  # Timeout for each code execution in seconds.\n",
    "            \"kernel_name\": \"python3\",  # Use the Python 3 kernel, which is the default.\n",
    "            \"output_dir\": temp_dir,  # Use the temporary directory to store output images.\n",
    "        },\n",
    "    },\n",
    "    human_input_mode=\"ALWAYS\",\n",
    ")"
   ]
  },
  {
   "cell_type": "markdown",
   "metadata": {},
   "source": [
    "Here is an example of solving a math problem through a conversation\n",
    "between the code writer and the code executor:"
   ]
  },
  {
   "cell_type": "code",
   "execution_count": 83,
   "metadata": {},
   "outputs": [
    {
     "name": "stdout",
     "output_type": "stream",
     "text": [
      "\u001b[33mcode_executor_agent\u001b[0m (to code_writer):\n",
      "\n",
      "Write Python code to calculate the 14th Fibonacci number.\n",
      "\n",
      "--------------------------------------------------------------------------------\n",
      "\u001b[31m\n",
      ">>>>>>>> USING AUTO REPLY...\u001b[0m\n",
      "\u001b[33mcode_writer\u001b[0m (to code_executor_agent):\n",
      "\n",
      "Sure, I'll use a simple iterative method to calculate the 14th Fibonacci number. \n",
      "\n",
      "```python\n",
      "def fibonacci(n):\n",
      "    a, b = 0, 1\n",
      "    for _ in range(n):\n",
      "        a, b = b, a + b\n",
      "    return a\n",
      "\n",
      "fibonacci(14)\n",
      "```\n",
      "\n",
      "--------------------------------------------------------------------------------\n",
      "\u001b[31m\n",
      ">>>>>>>> NO HUMAN INPUT RECEIVED.\u001b[0m\n",
      "\u001b[31m\n",
      ">>>>>>>> USING AUTO REPLY...\u001b[0m\n",
      "\u001b[33mcode_executor_agent\u001b[0m (to code_writer):\n",
      "\n",
      "exitcode: 0 (execution succeeded)\n",
      "Code output: 377\n",
      "\n",
      "--------------------------------------------------------------------------------\n",
      "\u001b[31m\n",
      ">>>>>>>> USING AUTO REPLY...\u001b[0m\n",
      "\u001b[33mcode_writer\u001b[0m (to code_executor_agent):\n",
      "\n",
      "The 14th Fibonacci number is 377.\n",
      "\n",
      "--------------------------------------------------------------------------------\n"
     ]
    }
   ],
   "source": [
    "chat_result = code_executor_agent.initiate_chat(\n",
    "    code_writer_agent,\n",
    "    message=\"Write Python code to calculate the 14th Fibonacci number.\",\n",
    ")"
   ]
  },
  {
   "cell_type": "markdown",
   "metadata": {},
   "source": [
    "During the previous chat session, human input was requested each time\n",
    "the code executor agent responded to ensure that the code was safe to execute."
   ]
  },
  {
   "cell_type": "markdown",
   "metadata": {},
   "source": [
    "Now we can try a more complex example that involves querying the web.\n",
    "Let's say we want to get the the stock prices year-to-date for\n",
    "Tesla and Meta (formerly Facebook). We can also use the two agents\n",
    "with several iterations of conversation.\n"
   ]
  },
  {
   "cell_type": "code",
   "execution_count": 84,
   "metadata": {},
   "outputs": [
    {
     "name": "stdout",
     "output_type": "stream",
     "text": [
      "\u001b[33mcode_executor_agent\u001b[0m (to code_writer):\n",
      "\n",
      "Today is 2024-02-26. Write Python code to plot TSLA's and META's stock prices YTD.\n",
      "\n",
      "--------------------------------------------------------------------------------\n",
      "\u001b[31m\n",
      ">>>>>>>> USING AUTO REPLY...\u001b[0m\n",
      "\u001b[33mcode_writer\u001b[0m (to code_executor_agent):\n",
      "\n",
      "First, let's install the `yfinance` library that will allow us to fetch the stock price data. We will also need `matplotlib` for plotting and `pandas` for data manipulation.\n",
      "\n",
      "Your code block should look like this:\n",
      "\n",
      "```python\n",
      "!pip install yfinance matplotlib pandas\n",
      "```\n",
      "\n",
      "--------------------------------------------------------------------------------\n",
      "\u001b[31m\n",
      ">>>>>>>> NO HUMAN INPUT RECEIVED.\u001b[0m\n",
      "\u001b[31m\n",
      ">>>>>>>> USING AUTO REPLY...\u001b[0m\n",
      "\u001b[33mcode_executor_agent\u001b[0m (to code_writer):\n",
      "\n",
      "exitcode: 0 (execution succeeded)\n",
      "Code output: \n",
      "\n",
      "--------------------------------------------------------------------------------\n",
      "\u001b[31m\n",
      ">>>>>>>> USING AUTO REPLY...\u001b[0m\n",
      "\u001b[33mcode_writer\u001b[0m (to code_executor_agent):\n",
      "\n",
      "Great! Now that the required libraries are installed, let's import them:\n",
      "\n",
      "```python\n",
      "import yfinance as yf\n",
      "import matplotlib.pyplot as plt\n",
      "import pandas as pd\n",
      "```\n",
      "\n",
      "--------------------------------------------------------------------------------\n",
      "\u001b[31m\n",
      ">>>>>>>> NO HUMAN INPUT RECEIVED.\u001b[0m\n",
      "\u001b[31m\n",
      ">>>>>>>> USING AUTO REPLY...\u001b[0m\n",
      "\u001b[33mcode_executor_agent\u001b[0m (to code_writer):\n",
      "\n",
      "exitcode: 0 (execution succeeded)\n",
      "Code output: \n",
      "\n",
      "--------------------------------------------------------------------------------\n",
      "\u001b[31m\n",
      ">>>>>>>> USING AUTO REPLY...\u001b[0m\n",
      "\u001b[33mcode_writer\u001b[0m (to code_executor_agent):\n",
      "\n",
      "Next, let's define a function that fetches the stock data for a given ticker symbol for the year up until the specified date. Then, it will\n",
      "return a DataFrame containing the changes in the stock price. \n",
      "\n",
      "```python\n",
      "def get_stock_data(symbol, end_date):\n",
      "    # YYYY-MM-DD to YYYY-MM-01\n",
      "    start_date = end_date[:8] + \"01\"\n",
      "    \n",
      "    # Fetch the data\n",
      "    data = yf.download(symbol, start=start_date, end=end_date)\n",
      "\n",
      "    # Return the data\n",
      "    return data\n",
      "```\n",
      "\n",
      "--------------------------------------------------------------------------------\n",
      "\u001b[31m\n",
      ">>>>>>>> NO HUMAN INPUT RECEIVED.\u001b[0m\n",
      "\u001b[31m\n",
      ">>>>>>>> USING AUTO REPLY...\u001b[0m\n",
      "\u001b[33mcode_executor_agent\u001b[0m (to code_writer):\n",
      "\n",
      "exitcode: 0 (execution succeeded)\n",
      "Code output: \n",
      "\n",
      "--------------------------------------------------------------------------------\n",
      "\u001b[31m\n",
      ">>>>>>>> USING AUTO REPLY...\u001b[0m\n",
      "\u001b[33mcode_writer\u001b[0m (to code_executor_agent):\n",
      "\n",
      "Now, let's fetch the stock price data for TSLA and META till 2024-02-26.\n",
      "\n",
      "```python\n",
      "end_date = \"2024-02-26\"\n",
      "tsla_data = get_stock_data(\"TSLA\", end_date)\n",
      "meta_data = get_stock_data(\"META\", end_date)\n",
      "```\n",
      "\n",
      "--------------------------------------------------------------------------------\n",
      "\u001b[31m\n",
      ">>>>>>>> NO HUMAN INPUT RECEIVED.\u001b[0m\n",
      "\u001b[31m\n",
      ">>>>>>>> USING AUTO REPLY...\u001b[0m\n",
      "\u001b[33mcode_executor_agent\u001b[0m (to code_writer):\n",
      "\n",
      "exitcode: 0 (execution succeeded)\n",
      "[*********************100%%**********************]  1 of 1 completed\n",
      "\n",
      "[*********************100%%**********************]  1 of 1 completed\n",
      "\n",
      "\n",
      "\n",
      "--------------------------------------------------------------------------------\n",
      "\u001b[31m\n",
      ">>>>>>>> USING AUTO REPLY...\u001b[0m\n",
      "\u001b[33mcode_writer\u001b[0m (to code_executor_agent):\n",
      "\n",
      "Now that we have the data, we can plot it.\n",
      "\n",
      "```python\n",
      "plt.figure(figsize=(14,8))\n",
      "\n",
      "plt.plot(tsla_data.index, tsla_data['Close'], label='TSLA')\n",
      "plt.plot(meta_data.index, meta_data['Close'], label='META')\n",
      "\n",
      "plt.title(\"TSLA vs META Stock Prices YTD\")\n",
      "plt.xlabel(\"Date\")\n",
      "plt.ylabel(\"Closing Price\")\n",
      "plt.legend()\n",
      "\n",
      "plt.show()\n",
      "```\n",
      "\n",
      "--------------------------------------------------------------------------------\n",
      "\u001b[31m\n",
      ">>>>>>>> NO HUMAN INPUT RECEIVED.\u001b[0m\n",
      "\u001b[31m\n",
      ">>>>>>>> USING AUTO REPLY...\u001b[0m\n",
      "\u001b[33mcode_executor_agent\u001b[0m (to code_writer):\n",
      "\n",
      "exitcode: 0 (execution succeeded)\n",
      "Code output: <Figure size 1400x800 with 1 Axes>\n",
      "Image data saved to /var/folders/1j/84srcy411pv53xkqm57pvgnr0000gn/T/tmp51yprec0/cf146a5cff554a678621a786ecd70ff0.png\n",
      "\n",
      "--------------------------------------------------------------------------------\n",
      "\u001b[31m\n",
      ">>>>>>>> USING AUTO REPLY...\u001b[0m\n",
      "\u001b[33mcode_writer\u001b[0m (to code_executor_agent):\n",
      "\n",
      "Here is the plot showing the year-to-date closing prices of TSLA and META stocks. You can view the plot by opening the image file located at /var/folders/1j/84srcy411pv53xkqm57pvgnr0000gn/T/tmp51yprec0/cf146a5cff554a678621a786ecd70ff0.png. \n",
      "\n",
      "Please note that the paths are diverging or converging over time, reflecting the changes in the stock prices of the two companies.\n",
      "\n",
      "--------------------------------------------------------------------------------\n"
     ]
    }
   ],
   "source": [
    "today = datetime.datetime.now().strftime(\"%Y-%m-%d\")\n",
    "chat_result = code_executor_agent.initiate_chat(\n",
    "    code_writer_agent, message=f\"Today is {today}. Write Python code to plot TSLA's and META's stock prices YTD.\"\n",
    ")"
   ]
  },
  {
   "cell_type": "markdown",
   "metadata": {},
   "source": [
    "Let's take a look at the chart that was generated."
   ]
  },
  {
   "cell_type": "code",
   "execution_count": 85,
   "metadata": {},
   "outputs": [
    {
     "name": "stdout",
     "output_type": "stream",
     "text": [
      "['cf146a5cff554a678621a786ecd70ff0.png']\n"
     ]
    },
    {
     "data": {
      "image/png": "[encoded data removed]",
      "text/plain": [
       "<IPython.core.display.Image object>"
      ]
     },
     "execution_count": 85,
     "metadata": {},
     "output_type": "execute_result"
    }
   ],
   "source": [
    "output_files = os.listdir(temp_dir)\n",
    "print(output_files)\n",
    "Image(os.path.join(temp_dir, output_files[0]))"
   ]
  },
  {
   "cell_type": "markdown",
   "metadata": {},
   "source": [
    "Clean up the temporary directory and restart the Jupyter server to free up\n",
    "the kernel resources."
   ]
  },
  {
   "cell_type": "code",
   "execution_count": 86,
   "metadata": {},
   "outputs": [],
   "source": [
    "shutil.rmtree(temp_dir)\n",
    "code_executor_agent.code_executor.restart()"
   ]
  },
  {
   "cell_type": "markdown",
   "metadata": {},
   "source": [
    "## Note on Legacy Code Executor\n",
    "\n",
    "In existing AutoGen code, you may see\n",
    "`code_execution_config={}` \n",
    "or \n",
    "`code_execution_config={\"use_docker\": False, \"work_dir\": \"path/to/work_dir\"}` \n",
    "specified\n",
    "in agent's constructor.\n",
    "This is the legacy way of specifying the code executor.\n",
    "The default value of `code_execution_config` is `{}` which means to use\n",
    "a similar version of docker command line code executor,\n",
    "while `{\"use_docker\": False}` means to use a similar version of local\n",
    "command line code executor.\n",
    "\n",
    "We recommend using the new way of specifying the code executor,\n",
    "which gives more flexibility and extensibility: you can choose different\n",
    "types of code executors and even supply your own code executor by\n",
    "passing a custom implementation of `autogen.coding.CodeExecutor`: `code_execution_config={\"executor\": CustomExecutor()}`."
   ]
  },
  {
   "cell_type": "markdown",
   "metadata": {},
   "source": [
    "## Note on User Proxy Agent and Assistant Agent\n",
    "\n",
    "### User Proxy Agent\n",
    "\n",
    "In the previous examples, the code executor agent is created directly using\n",
    "`ConversableAgent` class. In existing AutoGen code, the code executor\n",
    "agent is often created using `UserProxyAgent` class, which is a subclass of\n",
    "`ConversableAgent` with `human_input_mode=ALWAYS` and `llm_config=False` --\n",
    "it always requests human input for every message and does not use LLM.\n",
    "It also comes with default `description` field for each of the\n",
    "`human_input_mode` setting.\n",
    "This class is a convenient short-cut for creating an agent that is\n",
    "intended to be used as a code executor.\n",
    "\n",
    "The default `code_execution_config` for `UserProxyAgent` is currently set \n",
    "to use the legacy\n",
    "code executor with `{\"use_docker\": True}`.\n",
    "The default `description` field is also currently tuned for the legacy code\n",
    "executor which executes code in command line."
   ]
  },
  {
   "cell_type": "code",
   "execution_count": 90,
   "metadata": {},
   "outputs": [
    {
     "name": "stdout",
     "output_type": "stream",
     "text": [
      "{'ALWAYS': 'An attentive HUMAN user who can answer questions about the task, '\n",
      "           'and can perform tasks such as running Python code or inputting '\n",
      "           'command line commands at a Linux terminal and reporting back the '\n",
      "           'execution results.',\n",
      " 'NEVER': 'A computer terminal that performs no other action than running '\n",
      "          'Python scripts (provided to it quoted in ```python code blocks), or '\n",
      "          'sh shell scripts (provided to it quoted in ```sh code blocks).',\n",
      " 'TERMINATE': 'A user that can run Python code or input command line commands '\n",
      "              'at a Linux terminal and report back the execution results.'}\n"
     ]
    }
   ],
   "source": [
    "pprint.pprint(UserProxyAgent.DEFAULT_USER_PROXY_AGENT_DESCRIPTIONS)"
   ]
  },
  {
   "cell_type": "markdown",
   "metadata": {},
   "source": [
    "\n",
    "### Assistant Agent\n",
    "\n",
    "In the previous examples, the code writer agent is created directly using\n",
    "`ConversableAgent` class. In existing AutoGen code, the code writer\n",
    "agent is often created using `AssistantAgent` class, which is a subclass of\n",
    "`ConversableAgent` with `human_input_mode=NEVER` and `code_execution_config=False` -- it never requests human input and does not use code executor.\n",
    "It also comes with default `system_message` and `description` fields.\n",
    "This class is a convenient short-cut for creating an agent that is\n",
    "intended to be used as a code writer and does not execute code.\n",
    "\n",
    "**Important:** The default `system_message` of `AssistantAgent` is currently\n",
    "tuned for the legacy code executor which executes code in command line.\n",
    "If you are not using the command line code executor, \n",
    "you may need to modify the \n",
    "`system_message` make sure appropriate instruction is provided."
   ]
  },
  {
   "cell_type": "code",
   "execution_count": 91,
   "metadata": {},
   "outputs": [
    {
     "name": "stdout",
     "output_type": "stream",
     "text": [
      "('You are a helpful AI assistant.\\n'\n",
      " 'Solve tasks using your coding and language skills.\\n'\n",
      " 'In the following cases, suggest python code (in a python coding block) or '\n",
      " 'shell script (in a sh coding block) for the user to execute.\\n'\n",
      " '    1. When you need to collect info, use the code to output the info you '\n",
      " 'need, for example, browse or search the web, download/read a file, print the '\n",
      " 'content of a webpage or a file, get the current date/time, check the '\n",
      " 'operating system. After sufficient info is printed and the task is ready to '\n",
      " 'be solved based on your language skill, you can solve the task by yourself.\\n'\n",
      " '    2. When you need to perform some task with code, use the code to perform '\n",
      " 'the task and output the result. Finish the task smartly.\\n'\n",
      " 'Solve the task step by step if you need to. If a plan is not provided, '\n",
      " 'explain your plan first. Be clear which step uses code, and which step uses '\n",
      " 'your language skill.\\n'\n",
      " 'When using code, you must indicate the script type in the code block. The '\n",
      " 'user cannot provide any other feedback or perform any other action beyond '\n",
      " \"executing the code you suggest. The user can't modify your code. So do not \"\n",
      " \"suggest incomplete code which requires users to modify. Don't use a code \"\n",
      " \"block if it's not intended to be executed by the user.\\n\"\n",
      " 'If you want the user to save the code in a file before executing it, put # '\n",
      " \"filename: <filename> inside the code block as the first line. Don't include \"\n",
      " 'multiple code blocks in one response. Do not ask users to copy and paste the '\n",
      " \"result. Instead, use 'print' function for the output when relevant. Check \"\n",
      " 'the execution result returned by the user.\\n'\n",
      " 'If the result indicates there is an error, fix the error and output the code '\n",
      " 'again. Suggest the full code instead of partial code or code changes. If the '\n",
      " \"error can't be fixed or if the task is not solved even after the code is \"\n",
      " 'executed successfully, analyze the problem, revisit your assumption, collect '\n",
      " 'additional info you need, and think of a different approach to try.\\n'\n",
      " 'When you find an answer, verify the answer carefully. Include verifiable '\n",
      " 'evidence in your response if possible.\\n'\n",
      " 'Reply \"TERMINATE\" in the end when everything is done.\\n'\n",
      " '    ')\n"
     ]
    }
   ],
   "source": [
    "pprint.pprint(AssistantAgent.DEFAULT_SYSTEM_MESSAGE)"
   ]
  },
  {
   "cell_type": "code",
   "execution_count": 92,
   "metadata": {},
   "outputs": [
    {
     "name": "stdout",
     "output_type": "stream",
     "text": [
      "('A helpful and general-purpose AI assistant that has strong language skills, '\n",
      " 'Python skills, and Linux command line skills.')\n"
     ]
    }
   ],
   "source": [
    "pprint.pprint(AssistantAgent.DEFAULT_DESCRIPTION)"
   ]
  },
  {
   "cell_type": "markdown",
   "metadata": {},
   "source": [
    "### Best Practice\n",
    "As a best practice, if you are not using the command line code executors, \n",
    "we recommend using `ConversableAgent` directly and specify the\n",
    "`system_message` and `description` explicitly instead\n",
    "of `UserProxyAgent` and `AssistantAgent`\n",
    "as they are tuned for the legacy code executor."
   ]
  },
  {
   "cell_type": "markdown",
   "metadata": {},
   "source": [
    "## Summary\n",
    "\n",
    "In this chapter, we introduced code executors: command line executors and\n",
    "Jupyter executors. \n",
    "We also showed how to use code executor in a conversation between\n",
    "a code writer agent and a code executor agent.\n",
    "In [the next chapter](./conversation-patterns), we will introduce conversation patterns, and show\n",
    "how to use the result of a conversation."
   ]
  }
 ],
 "metadata": {
  "kernelspec": {
   "display_name": "autogen",
   "language": "python",
   "name": "python3"
  },
  "language_info": {
   "codemirror_mode": {
    "name": "ipython",
    "version": 3
   },
   "file_extension": ".py",
   "mimetype": "text/x-python",
   "name": "python",
   "nbconvert_exporter": "python",
   "pygments_lexer": "ipython3",
   "version": "3.11.5"
  }
 },
 "nbformat": 4,
 "nbformat_minor": 2
}
